{
 "cells": [
  {
   "cell_type": "code",
   "execution_count": 1,
   "metadata": {},
   "outputs": [],
   "source": [
    "#import library\n",
    "import requests\n",
    "import pandas as pd\n",
    "import tensorflow as tf\n",
    "import json\n",
    "import base64"
   ]
  },
  {
   "cell_type": "code",
   "execution_count": 2,
   "metadata": {},
   "outputs": [],
   "source": [
    "#laod dataset yang akan digunakan untuk test\n",
    "data = pd.read_csv('data/mental_health.csv')"
   ]
  },
  {
   "cell_type": "code",
   "execution_count": 3,
   "metadata": {},
   "outputs": [
    {
     "data": {
      "text/html": [
       "<div>\n",
       "<style scoped>\n",
       "    .dataframe tbody tr th:only-of-type {\n",
       "        vertical-align: middle;\n",
       "    }\n",
       "\n",
       "    .dataframe tbody tr th {\n",
       "        vertical-align: top;\n",
       "    }\n",
       "\n",
       "    .dataframe thead th {\n",
       "        text-align: right;\n",
       "    }\n",
       "</style>\n",
       "<table border=\"1\" class=\"dataframe\">\n",
       "  <thead>\n",
       "    <tr style=\"text-align: right;\">\n",
       "      <th></th>\n",
       "      <th>text</th>\n",
       "      <th>label</th>\n",
       "    </tr>\n",
       "  </thead>\n",
       "  <tbody>\n",
       "    <tr>\n",
       "      <th>0</th>\n",
       "      <td>dear american teens question dutch person hear...</td>\n",
       "      <td>0</td>\n",
       "    </tr>\n",
       "    <tr>\n",
       "      <th>1</th>\n",
       "      <td>nothing look forward lifei dont many reasons k...</td>\n",
       "      <td>1</td>\n",
       "    </tr>\n",
       "    <tr>\n",
       "      <th>2</th>\n",
       "      <td>music recommendations im looking expand playli...</td>\n",
       "      <td>0</td>\n",
       "    </tr>\n",
       "    <tr>\n",
       "      <th>3</th>\n",
       "      <td>im done trying feel betterthe reason im still ...</td>\n",
       "      <td>1</td>\n",
       "    </tr>\n",
       "    <tr>\n",
       "      <th>4</th>\n",
       "      <td>worried  year old girl subject domestic physic...</td>\n",
       "      <td>1</td>\n",
       "    </tr>\n",
       "    <tr>\n",
       "      <th>...</th>\n",
       "      <td>...</td>\n",
       "      <td>...</td>\n",
       "    </tr>\n",
       "    <tr>\n",
       "      <th>27972</th>\n",
       "      <td>posting everyday people stop caring  religion ...</td>\n",
       "      <td>0</td>\n",
       "    </tr>\n",
       "    <tr>\n",
       "      <th>27973</th>\n",
       "      <td>okay definetly need hear guys opinion ive pret...</td>\n",
       "      <td>0</td>\n",
       "    </tr>\n",
       "    <tr>\n",
       "      <th>27974</th>\n",
       "      <td>cant get dog think ill kill myselfthe last thi...</td>\n",
       "      <td>1</td>\n",
       "    </tr>\n",
       "    <tr>\n",
       "      <th>27975</th>\n",
       "      <td>whats point princess bridei really think like ...</td>\n",
       "      <td>1</td>\n",
       "    </tr>\n",
       "    <tr>\n",
       "      <th>27976</th>\n",
       "      <td>got nudes person might might know snapchat do ...</td>\n",
       "      <td>0</td>\n",
       "    </tr>\n",
       "  </tbody>\n",
       "</table>\n",
       "<p>27977 rows × 2 columns</p>\n",
       "</div>"
      ],
      "text/plain": [
       "                                                    text  label\n",
       "0      dear american teens question dutch person hear...      0\n",
       "1      nothing look forward lifei dont many reasons k...      1\n",
       "2      music recommendations im looking expand playli...      0\n",
       "3      im done trying feel betterthe reason im still ...      1\n",
       "4      worried  year old girl subject domestic physic...      1\n",
       "...                                                  ...    ...\n",
       "27972  posting everyday people stop caring  religion ...      0\n",
       "27973  okay definetly need hear guys opinion ive pret...      0\n",
       "27974  cant get dog think ill kill myselfthe last thi...      1\n",
       "27975  whats point princess bridei really think like ...      1\n",
       "27976  got nudes person might might know snapchat do ...      0\n",
       "\n",
       "[27977 rows x 2 columns]"
      ]
     },
     "execution_count": 3,
     "metadata": {},
     "output_type": "execute_result"
    }
   ],
   "source": [
    "data"
   ]
  },
  {
   "cell_type": "code",
   "execution_count": 4,
   "metadata": {},
   "outputs": [
    {
     "data": {
      "text/plain": [
       "0        dear american teens question dutch person hear...\n",
       "1        nothing look forward lifei dont many reasons k...\n",
       "2        music recommendations im looking expand playli...\n",
       "3        im done trying feel betterthe reason im still ...\n",
       "4        worried  year old girl subject domestic physic...\n",
       "                               ...                        \n",
       "27972    posting everyday people stop caring  religion ...\n",
       "27973    okay definetly need hear guys opinion ive pret...\n",
       "27974    cant get dog think ill kill myselfthe last thi...\n",
       "27975    whats point princess bridei really think like ...\n",
       "27976    got nudes person might might know snapchat do ...\n",
       "Name: text, Length: 27977, dtype: object"
      ]
     },
     "execution_count": 4,
     "metadata": {},
     "output_type": "execute_result"
    }
   ],
   "source": [
    "data['text']"
   ]
  },
  {
   "cell_type": "code",
   "execution_count": 5,
   "metadata": {},
   "outputs": [
    {
     "data": {
      "text/plain": [
       "'nothing look forward lifei dont many reasons keep going feel like nothing keeps going next day makes want hang myself'"
      ]
     },
     "execution_count": 5,
     "metadata": {},
     "output_type": "execute_result"
    }
   ],
   "source": [
    "text_test = data['text'][1]\n",
    "\n",
    "text_test"
   ]
  },
  {
   "cell_type": "code",
   "execution_count": 7,
   "metadata": {},
   "outputs": [
    {
     "name": "stdout",
     "output_type": "stream",
     "text": [
      "Perlu penanganan pada kesehatan mental\n"
     ]
    }
   ],
   "source": [
    "def prepare_json(text):\n",
    "    feature_spec = {\n",
    "        \"text\": tf.train.Feature(bytes_list=tf.train.BytesList(value=[bytes(text, \"utf-8\")])),\n",
    "    }\n",
    "    \n",
    "    example = tf.train.Example(\n",
    "        features=tf.train.Features(feature=feature_spec)\n",
    "    ).SerializeToString()\n",
    "    \n",
    "    result = [\n",
    "        {\n",
    "            \"examples\": {\n",
    "                \"b64\": base64.b64encode(example).decode()\n",
    "            }\n",
    "        }\n",
    "    ]\n",
    "    \n",
    "    return json.dumps({\n",
    "        \"signature_name\": \"serving_default\",\n",
    "        \"instances\": result\n",
    "    })\n",
    "\n",
    "json_data = prepare_json(text_test)\n",
    "    \n",
    "endpoint = \"http://localhost:8080/v1/models/mental-prediction-model:predict\"\n",
    "response = requests.post(endpoint, data=json_data)\n",
    "\n",
    "prediction = response.json().get(\"predictions\")\n",
    "if prediction:\n",
    "    prediction_value = prediction[0][0]\n",
    "    result = \"Perlu penanganan pada kesehatan mental\" if prediction_value > 0.6 else \"Kesehatan mental baik\"\n",
    "else:\n",
    "    result = \"Error: No predictions found in response.\"\n",
    "\n",
    "print(result)"
   ]
  }
 ],
 "metadata": {
  "kernelspec": {
   "display_name": "Python 3",
   "language": "python",
   "name": "python3"
  },
  "language_info": {
   "codemirror_mode": {
    "name": "ipython",
    "version": 3
   },
   "file_extension": ".py",
   "mimetype": "text/x-python",
   "name": "python",
   "nbconvert_exporter": "python",
   "pygments_lexer": "ipython3",
   "version": "3.9.0rc2"
  }
 },
 "nbformat": 4,
 "nbformat_minor": 2
}
